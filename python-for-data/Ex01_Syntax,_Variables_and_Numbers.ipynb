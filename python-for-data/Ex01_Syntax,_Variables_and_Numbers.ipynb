{
  "nbformat": 4,
  "nbformat_minor": 0,
  "metadata": {
    "kernelspec": {
      "display_name": "Python 3",
      "language": "python",
      "name": "python3"
    },
    "language_info": {
      "codemirror_mode": {
        "name": "ipython",
        "version": 3
      },
      "file_extension": ".py",
      "mimetype": "text/x-python",
      "name": "python",
      "nbconvert_exporter": "python",
      "pygments_lexer": "ipython3",
      "version": "3.6.5"
    },
    "learntools_metadata": {
      "lesson_index": 0,
      "type": "exercise"
    },
    "colab": {
      "name": "Ex01 - Syntax, Variables and Numbers.ipynb",
      "provenance": [],
      "collapsed_sections": [],
      "include_colab_link": true
    }
  },
  "cells": [
    {
      "cell_type": "markdown",
      "metadata": {
        "id": "view-in-github",
        "colab_type": "text"
      },
      "source": [
        "<a href=\"https://colab.research.google.com/github/tinyvyy/atom-assignments/blob/main/Ex01_Syntax%2C_Variables_and_Numbers.ipynb\" target=\"_parent\"><img src=\"https://colab.research.google.com/assets/colab-badge.svg\" alt=\"Open In Colab\"/></a>"
      ]
    },
    {
      "cell_type": "markdown",
      "metadata": {
        "_uuid": "6f776c0a7a1b5f5dff182fe32e0da17a2936220c",
        "id": "CWg-eQ_z8fzW"
      },
      "source": [
        "# Exercise 01 - Syntax, Variables and Numbers"
      ]
    },
    {
      "cell_type": "markdown",
      "metadata": {
        "_uuid": "313472bf1e8e8650066c4d2b480c4983c7170c36",
        "id": "ppYAWQzR8fza"
      },
      "source": [
        "Welcome to your first set of Python coding problems! \n",
        "\n",
        "**Notebooks** are composed of blocks (called \"cells\") of text and code. Each of these is editable, though you'll mainly be editing the code cells to answer some questions.\n",
        "\n",
        "To get started, try running the code cell below (by pressing the `►| Run` button, or clicking on the cell and pressing `ctrl+Enter`/`shift+Enter` on your keyboard)."
      ]
    },
    {
      "cell_type": "code",
      "metadata": {
        "_uuid": "1aca02cda819d5263cd81f4bbcfa2aaf8dc138d2",
        "colab": {
          "base_uri": "https://localhost:8080/"
        },
        "id": "Dyw3EuWR8fzb",
        "outputId": "80190a13-ab47-439b-e1ff-139b788a687f"
      },
      "source": [
        "print(\"You've successfully run some Python code\")\n",
        "print(\"Congratulations!\")"
      ],
      "execution_count": 1,
      "outputs": [
        {
          "output_type": "stream",
          "text": [
            "You've successfully run some Python code\n",
            "Congratulations!\n"
          ],
          "name": "stdout"
        }
      ]
    },
    {
      "cell_type": "code",
      "metadata": {
        "colab": {
          "base_uri": "https://localhost:8080/"
        },
        "id": "6WsEeE4B8tEm",
        "outputId": "695dd3b6-1d9d-443f-a374-9f3818aac5af"
      },
      "source": [
        "print(\"Hello Python! My name is Vy\")"
      ],
      "execution_count": 2,
      "outputs": [
        {
          "output_type": "stream",
          "text": [
            "Hello Python! My name is Vy\n"
          ],
          "name": "stdout"
        }
      ]
    },
    {
      "cell_type": "markdown",
      "metadata": {
        "_uuid": "9b97ef75e9acabc1f847f6d0f06ab647a44fb3e0",
        "id": "TaSI-aRw8fzc"
      },
      "source": [
        "Try adding another line of code in the cell above and re-running it. \n",
        "\n",
        "Now let's get a little fancier:  Add a new code cell by clicking on an existing code cell, hitting the `escape` key *(turn to command mode)*, and then hitting the `a` or `b` key.  \n",
        "- The `a` key will add a cell above the current cell.\n",
        "- The `b` adds a cell below.\n",
        "\n",
        "Great! Now you know how to use Notebooks."
      ]
    },
    {
      "cell_type": "markdown",
      "metadata": {
        "_uuid": "4cea9061fa5c20161f2c8c46dbd1a184512317e8",
        "id": "NTwlg9TQ8fzc"
      },
      "source": [
        "## 0. Creating a Variable\n",
        "\n",
        "**What is your favorite color? **\n",
        "\n",
        "To complete this question, create a variable called `color` in the cell below with an appropriate `string` value."
      ]
    },
    {
      "cell_type": "code",
      "metadata": {
        "_uuid": "ecfae4ce4c4494d4e1073da6f536f9295775ae77",
        "id": "u4fXm5eK8fzd"
      },
      "source": [
        "# Create a variable called color with an appropriate value on the line below\n",
        "# (Remember, strings in Python must be enclosed in 'single' or \"double\" quotes)\n",
        "\n",
        "color = (\"blue\")"
      ],
      "execution_count": 3,
      "outputs": []
    },
    {
      "cell_type": "markdown",
      "metadata": {
        "_uuid": "ebf3dd970265223ba1c5ae0c09f57a57451c8635",
        "id": "zFDaItUq8fzd"
      },
      "source": [
        "<hr/>\n",
        "\n",
        "## 1. Simple Arithmetic Operation\n",
        "\n",
        "Complete the code below. In case it's helpful, here is the table of available arithmatic operations:\n",
        "\n",
        "\n",
        "\n",
        "| Operator     | Name           | Description                                            |\n",
        "|--------------|----------------|--------------------------------------------------------|\n",
        "| ``a + b``    | Addition       | Sum of ``a`` and ``b``                                 |\n",
        "| ``a - b``    | Subtraction    | Difference of ``a`` and ``b``                          |\n",
        "| ``a * b``    | Multiplication | Product of ``a`` and ``b``                             |\n",
        "| ``a / b``    | True division  | Quotient of ``a`` and ``b``                            |\n",
        "| ``a // b``   | Floor division | Quotient of ``a`` and ``b``, removing fractional parts |\n",
        "| ``a % b``    | Modulus        | Integer remainder after division of ``a`` by ``b``     |\n",
        "| ``a ** b``   | Exponentiation | ``a`` raised to the power of ``b``                     |\n",
        "| ``-a``       | Negation       | The negative of ``a``                                  |\n",
        "\n",
        "<span style=\"display:none\"></span>\n"
      ]
    },
    {
      "cell_type": "code",
      "metadata": {
        "_uuid": "1aeec7bf0a7813aa00f8bc5587a3205dcc631f04",
        "colab": {
          "base_uri": "https://localhost:8080/"
        },
        "id": "kfgu2vRC8fze",
        "outputId": "1d059f20-0ca0-47e1-e75f-06b1c2599e30"
      },
      "source": [
        "pi = 3.14159 # approximate\n",
        "diameter = 3\n",
        "\n",
        "# Create a variable called 'radius' equal to half the diameter\n",
        "radius = diameter / 2\n",
        "\n",
        "# Create a variable called 'area', using the formula for the area of a circle: pi times the radius squared\n",
        "area = pi * (radius**2)\n",
        "print(\"Circle area is: \", area )"
      ],
      "execution_count": 4,
      "outputs": [
        {
          "output_type": "stream",
          "text": [
            "Circle area is:  7.0685775\n"
          ],
          "name": "stdout"
        }
      ]
    },
    {
      "cell_type": "markdown",
      "metadata": {
        "id": "4F0TEo2t8fze"
      },
      "source": [
        "**Results**:\n",
        "- Area = 7.0685775"
      ]
    },
    {
      "cell_type": "markdown",
      "metadata": {
        "_uuid": "cbeff112768642501fb0c3620228fefd18fd2757",
        "id": "eFz-IGlV8fzf"
      },
      "source": [
        "## 2. Variable Reassignment\n",
        "\n",
        "Add code to the following cell to swap variables `a` and `b` (so that `a` refers to the object previously referred to by `b` and vice versa)."
      ]
    },
    {
      "cell_type": "code",
      "metadata": {
        "_uuid": "8aba488a5eff621ab69d89eab68d89aeecccd9e5",
        "id": "-bdO9k0D8fzf"
      },
      "source": [
        "# If you're curious, these are examples of lists. We'll talk about \n",
        "# them in depth a few lessons from now. For now, just know that they're\n",
        "# yet another type of Python object, like int or float.\n",
        "a = [1, 2, 3]\n",
        "b = [3, 2, 1]\n",
        "\n",
        "######################################################################\n",
        "\n",
        "# Your code goes here. Swap the values to which a and b refer.\n",
        "# Hint: Try using a third variable\n",
        "c = a \n",
        "a = b\n",
        "b = c \n",
        "print(a,b)\n"
      ],
      "execution_count": null,
      "outputs": []
    },
    {
      "cell_type": "markdown",
      "metadata": {
        "_uuid": "afe12df4d86734e4ed08d112a18a0b71fd323d30",
        "id": "2_qmm64P8fzg"
      },
      "source": [
        "## 3. Order of Operations\n",
        "\n",
        "\n",
        "a) Add parentheses to the following expression so that it evaluates to 1.\n",
        "\n",
        "*Hint*: Following its default \"**PEMDAS**\"-like rules for order of operations, Python will first divide 3 by 2, then subtract the result from 5. You need to add parentheses to force it to perform the subtraction first."
      ]
    },
    {
      "cell_type": "code",
      "metadata": {
        "_uuid": "1e3cb6016456b82066cd39b0fd71257c4d127d07",
        "colab": {
          "base_uri": "https://localhost:8080/"
        },
        "id": "NqgOgsJR8fzg",
        "outputId": "b3a9fa2e-4731-4838-e83f-e6beea4a6b51"
      },
      "source": [
        "5 - 3 // 2\n",
        "a = (5 - 3) // 2\n",
        "\n",
        "print(\"a =\", a)"
      ],
      "execution_count": 6,
      "outputs": [
        {
          "output_type": "stream",
          "text": [
            "a = 1\n"
          ],
          "name": "stdout"
        }
      ]
    },
    {
      "cell_type": "markdown",
      "metadata": {
        "_uuid": "ab6535061e07d0b8bfcdbb9f7883a691078bab22",
        "id": "zqjWQFig8fzg"
      },
      "source": [
        "<small>Questions, like this one, marked a spicy pepper are a bit harder. Don't feel bad if you can't get these.</small>\n",
        "\n",
        "b) <span title=\"A bit spicy\" style=\"color: darkgreen \">🌶️</span> Add parentheses to the following expression so that it evaluates to **0**."
      ]
    },
    {
      "cell_type": "code",
      "metadata": {
        "_uuid": "e1dd7d9dd544f6e29f27379f8077170f0aa31a7c",
        "colab": {
          "base_uri": "https://localhost:8080/"
        },
        "id": "ozEaJeXz8fzh",
        "outputId": "d5069a21-3ab6-49cf-fba8-34ccbb5ea4fe"
      },
      "source": [
        "8 - 3 * 2 - 1 + 1\n",
        "b = (8 - 3) * (2 - (1 + 1))\n",
        "print(\"b =\", b)"
      ],
      "execution_count": 8,
      "outputs": [
        {
          "output_type": "stream",
          "text": [
            "b = 0\n"
          ],
          "name": "stdout"
        }
      ]
    },
    {
      "cell_type": "markdown",
      "metadata": {
        "_uuid": "5ad71f1a4cdcaa3d18f5401503010076088ed1aa",
        "id": "k0w8bryG8fzh"
      },
      "source": [
        "## 4. Your Turn\n",
        "Alice, Bob and Carol have agreed to pool their Halloween candies and split it evenly among themselves.\n",
        "For the sake of their friendship, any candies left over will be smashed. For example, if they collectively\n",
        "bring home 91 candies, they'll take 30 each and smash 1.\n",
        "\n",
        "Write an arithmetic expression below to calculate how many candies they must smash for a given haul.\n",
        "\n",
        "> *Hint*: You'll probably want to use the modulo operator, `%`, to obtain the remainder of division."
      ]
    },
    {
      "cell_type": "code",
      "metadata": {
        "_uuid": "01ed33d051d37c136ca53d7203fc350c4c1229db",
        "colab": {
          "base_uri": "https://localhost:8080/"
        },
        "id": "LrocUg1c8fzh",
        "outputId": "ae7384f9-b845-4363-d601-a1a6f8104328"
      },
      "source": [
        "# Variables representing the number of candies collected by Alice, Bob, and Carol\n",
        "alice_candies = 121\n",
        "bob_candies = 77\n",
        "carol_candies = 109\n",
        "\n",
        "# Your code goes here! Replace the right-hand side of this assignment with an expression\n",
        "# involving alice_candies, bob_candies, and carol_candies\n",
        "to_smash = (alice_candies + bob_candies + carol_candies)%3\n",
        "print(\"to_smash = \", to_smash)\n"
      ],
      "execution_count": 9,
      "outputs": [
        {
          "output_type": "stream",
          "text": [
            "to_smash =  1\n"
          ],
          "name": "stdout"
        }
      ]
    },
    {
      "cell_type": "markdown",
      "metadata": {
        "_uuid": "0e80e6d2e40d572729fc91291f25fde2e7e9d4d5",
        "id": "ssQTKCVA8fzi"
      },
      "source": [
        "# Keep Going 💪"
      ]
    }
  ]
}
