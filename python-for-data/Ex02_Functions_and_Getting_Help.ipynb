{
  "nbformat": 4,
  "nbformat_minor": 0,
  "metadata": {
    "kernelspec": {
      "display_name": "Python 3",
      "language": "python",
      "name": "python3"
    },
    "language_info": {
      "codemirror_mode": {
        "name": "ipython",
        "version": 3
      },
      "file_extension": ".py",
      "mimetype": "text/x-python",
      "name": "python",
      "nbconvert_exporter": "python",
      "pygments_lexer": "ipython3",
      "version": "3.6.5"
    },
    "learntools_metadata": {
      "lesson_index": 1,
      "type": "exercise"
    },
    "colab": {
      "name": "Ex02 - Functions and Getting Help.ipynb",
      "provenance": [],
      "collapsed_sections": [],
      "toc_visible": true,
      "include_colab_link": true
    }
  },
  "cells": [
    {
      "cell_type": "markdown",
      "metadata": {
        "id": "view-in-github",
        "colab_type": "text"
      },
      "source": [
        "<a href=\"https://colab.research.google.com/github/tinyvyy/atom-assignments/blob/main/Ex02_Functions_and_Getting_Help.ipynb\" target=\"_parent\"><img src=\"https://colab.research.google.com/assets/colab-badge.svg\" alt=\"Open In Colab\"/></a>"
      ]
    },
    {
      "cell_type": "markdown",
      "metadata": {
        "_uuid": "b614ba0f78fa3cb457efd3a72d7c5c6d66ced8c4",
        "id": "7pwQj0_3H_La"
      },
      "source": [
        "# Exercise 02 - Functions and Getting Help !"
      ]
    },
    {
      "cell_type": "markdown",
      "metadata": {
        "_uuid": "463c02da36c6f974212f336d68fa9fdec63b29f2",
        "id": "t33qbunVH_Le"
      },
      "source": [
        "## 1. Complete Your Very First Function \n",
        "\n",
        "Complete the body of the following function according to its docstring.\n",
        "\n",
        "*HINT*: Python has a builtin function `round`"
      ]
    },
    {
      "cell_type": "code",
      "metadata": {
        "_uuid": "eb7401ab1739f5310e7b400a67c55e9025866d5d",
        "id": "hIhPcHrpH_Le"
      },
      "source": [
        "def round_to_two_places(num):\n",
        "    \"\"\"Return the given number rounded to two decimal places. \n",
        "    \n",
        "    >>> round_to_two_places(3.14159)\n",
        "    3.14\n",
        "    \"\"\"\n",
        "    \n",
        "    return (round(num,2))\n",
        "    # Replace this body with your own code.\n",
        "    # (\"pass\" is a keyword that does literally nothing. We used it as a placeholder,\n",
        "    # so that it will not raise any errors,\n",
        "    # because after we begin a code block, Python requires at least one line of code)\n",
        "    pass"
      ],
      "execution_count": null,
      "outputs": []
    },
    {
      "cell_type": "code",
      "metadata": {
        "colab": {
          "base_uri": "https://localhost:8080/"
        },
        "id": "LHHznuCKg2KJ",
        "outputId": "a193380a-59d8-4e40-a58d-51821b6727d4"
      },
      "source": [
        "round_to_two_places(3.16785)\n"
      ],
      "execution_count": null,
      "outputs": [
        {
          "output_type": "execute_result",
          "data": {
            "text/plain": [
              "3.17"
            ]
          },
          "metadata": {
            "tags": []
          },
          "execution_count": 5
        }
      ]
    },
    {
      "cell_type": "markdown",
      "metadata": {
        "_uuid": "2c6c12ce2992453c0e7c06d813e3bdf1dbfdad73",
        "id": "IaVFbxMAH_Lg"
      },
      "source": [
        "## 2. Explore the Built-in Function\n",
        "The help for `round` says that `ndigits` (the second argument) may be negative.\n",
        "What do you think will happen when it is? Try some examples in the following cell?\n",
        "\n",
        "Can you think of a case where this would be useful?"
      ]
    },
    {
      "cell_type": "code",
      "metadata": {
        "_uuid": "310ae90a6f40836427b7563e595dbb1156283ceb",
        "id": "Wdz8-DxOH_Lh",
        "colab": {
          "base_uri": "https://localhost:8080/"
        },
        "outputId": "5eda1b3d-c908-488a-97bc-edab84b1c684"
      },
      "source": [
        "# Put your test code here\n",
        "round(273.1462,-2)\n",
        "\n",
        "#it woule be useful when we want to round the digit before decimal point/ or round whole number"
      ],
      "execution_count": null,
      "outputs": [
        {
          "output_type": "execute_result",
          "data": {
            "text/plain": [
              "300.0"
            ]
          },
          "metadata": {
            "tags": []
          },
          "execution_count": 11
        }
      ]
    },
    {
      "cell_type": "markdown",
      "metadata": {
        "_uuid": "36e83961f42db06503a116a777185ac25b759788",
        "id": "CkojPxkGH_Lh"
      },
      "source": [
        "## 3. More Function\n",
        "\n",
        "Giving the problem of candy-sharing friends Alice, Bob and Carol tried to split candies evenly. For the sake of their friendship, any candies left over would be smashed. For example, if they collectively bring home 91 candies, they will take 30 each and smash 1.\n",
        "\n",
        "Below is a simple function that will calculate the number of candies to smash for *any* number of total candies.\n",
        "\n",
        "**Your task**: \n",
        "- Modify it so that it optionally takes a second argument representing the number of friends the candies are being split between. If no second argument is provided, it should assume 3 friends, as before.\n",
        "- Update the docstring to reflect this new behaviour."
      ]
    },
    {
      "cell_type": "code",
      "metadata": {
        "_uuid": "2bbed479de86e23c7a812c7ae0782735fd764195",
        "id": "-Uap6nafH_Li"
      },
      "source": [
        "def to_smash(total_candies,number_friends = 3):\n",
        "    \"\"\"Return the number of leftover candies that must be smashed after distributing\n",
        "    the given number of candies evenly between a number of friends. \n",
        "    If number is not provided, it will be set as 3 \n",
        "    \n",
        "    >>> to_smash(91)\n",
        "    1\n",
        "    \"\"\"\n",
        "    return total_candies % number_friends"
      ],
      "execution_count": null,
      "outputs": []
    },
    {
      "cell_type": "code",
      "metadata": {
        "colab": {
          "base_uri": "https://localhost:8080/"
        },
        "id": "uevGduCijah4",
        "outputId": "ad856fd9-9870-48f2-a758-deb52af8fdc3"
      },
      "source": [
        "to_smash(94)"
      ],
      "execution_count": null,
      "outputs": [
        {
          "output_type": "execute_result",
          "data": {
            "text/plain": [
              "1"
            ]
          },
          "metadata": {
            "tags": []
          },
          "execution_count": 15
        }
      ]
    },
    {
      "cell_type": "markdown",
      "metadata": {
        "_uuid": "ec7d50eeeb167b91ecae5c682d65b9e1fc5fcf13",
        "id": "SzB4LfOhH_Li"
      },
      "source": [
        "## 4. Taste some Errors\n",
        "\n",
        "It may not be fun, but reading and understanding **error messages** will help you improve solving problem skills.\n",
        "\n",
        "Each code cell below contains some commented-out buggy code. For each cell...\n",
        "\n",
        "1. Read the code and predict what you think will happen when it's run.\n",
        "2. Then uncomment the code and run it to see what happens. *(**Tips**: In the kernel editor, you can highlight several lines and press `ctrl`+`/` to toggle commenting.)*\n",
        "3. Fix the code (so that it accomplishes its intended purpose without throwing an exception)\n",
        "\n",
        "<!-- TODO: should this be autochecked? Delta is probably pretty small. -->"
      ]
    },
    {
      "cell_type": "code",
      "metadata": {
        "_uuid": "dd3955780a593bff78face0dc46093f4deb533ab",
        "id": "XH2_1F43H_Lj",
        "colab": {
          "base_uri": "https://localhost:8080/",
          "height": 163
        },
        "outputId": "218b7b84-1826-4a79-fbbe-8578551fc86f"
      },
      "source": [
        "ruound_to_two_places(9.9999)"
      ],
      "execution_count": null,
      "outputs": [
        {
          "output_type": "error",
          "ename": "NameError",
          "evalue": "ignored",
          "traceback": [
            "\u001b[0;31m---------------------------------------------------------------------------\u001b[0m",
            "\u001b[0;31mNameError\u001b[0m                                 Traceback (most recent call last)",
            "\u001b[0;32m<ipython-input-20-c6fedd2edf24>\u001b[0m in \u001b[0;36m<module>\u001b[0;34m()\u001b[0m\n\u001b[0;32m----> 1\u001b[0;31m \u001b[0mruound_to_two_places\u001b[0m\u001b[0;34m(\u001b[0m\u001b[0;36m9.9999\u001b[0m\u001b[0;34m)\u001b[0m\u001b[0;34m\u001b[0m\u001b[0;34m\u001b[0m\u001b[0m\n\u001b[0m",
            "\u001b[0;31mNameError\u001b[0m: name 'ruound_to_two_places' is not defined"
          ]
        }
      ]
    },
    {
      "cell_type": "code",
      "metadata": {
        "colab": {
          "base_uri": "https://localhost:8080/"
        },
        "id": "GSnvwuyNkHGu",
        "outputId": "0fe192d6-465f-4de8-9e58-16e8cbae51e0"
      },
      "source": [
        "#correct\n",
        "round_to_two_places(9.9999)"
      ],
      "execution_count": null,
      "outputs": [
        {
          "output_type": "execute_result",
          "data": {
            "text/plain": [
              "10.0"
            ]
          },
          "metadata": {
            "tags": []
          },
          "execution_count": 19
        }
      ]
    },
    {
      "cell_type": "code",
      "metadata": {
        "_uuid": "2a89511b6b1bd89b05998b705bf3db5088841a43",
        "id": "SjSzQguSH_Lj",
        "colab": {
          "base_uri": "https://localhost:8080/",
          "height": 197
        },
        "outputId": "bb3ee2f6-49ba-4f66-fb88-389576e696fd"
      },
      "source": [
        "x = -10\n",
        "y = 5\n",
        "# Which of the two variables above has the smallest absolute value?\n",
        "smallest_abs = min(abs(x, y))"
      ],
      "execution_count": null,
      "outputs": [
        {
          "output_type": "error",
          "ename": "TypeError",
          "evalue": "ignored",
          "traceback": [
            "\u001b[0;31m---------------------------------------------------------------------------\u001b[0m",
            "\u001b[0;31mTypeError\u001b[0m                                 Traceback (most recent call last)",
            "\u001b[0;32m<ipython-input-22-2e22b9ac3f24>\u001b[0m in \u001b[0;36m<module>\u001b[0;34m()\u001b[0m\n\u001b[1;32m      2\u001b[0m \u001b[0my\u001b[0m \u001b[0;34m=\u001b[0m \u001b[0;36m5\u001b[0m\u001b[0;34m\u001b[0m\u001b[0;34m\u001b[0m\u001b[0m\n\u001b[1;32m      3\u001b[0m \u001b[0;31m# Which of the two variables above has the smallest absolute value?\u001b[0m\u001b[0;34m\u001b[0m\u001b[0;34m\u001b[0m\u001b[0;34m\u001b[0m\u001b[0m\n\u001b[0;32m----> 4\u001b[0;31m \u001b[0msmallest_abs\u001b[0m \u001b[0;34m=\u001b[0m \u001b[0mmin\u001b[0m\u001b[0;34m(\u001b[0m\u001b[0mabs\u001b[0m\u001b[0;34m(\u001b[0m\u001b[0mx\u001b[0m\u001b[0;34m,\u001b[0m \u001b[0my\u001b[0m\u001b[0;34m)\u001b[0m\u001b[0;34m)\u001b[0m\u001b[0;34m\u001b[0m\u001b[0;34m\u001b[0m\u001b[0m\n\u001b[0m",
            "\u001b[0;31mTypeError\u001b[0m: abs() takes exactly one argument (2 given)"
          ]
        }
      ]
    },
    {
      "cell_type": "code",
      "metadata": {
        "id": "RBTlOo0Pkgqu"
      },
      "source": [
        "#correct\n",
        "x = -10\n",
        "y = 5\n",
        "# Which of the two variables above has the smallest absolute value?\n",
        "smallest_abs = min(abs(x), abs(y))"
      ],
      "execution_count": null,
      "outputs": []
    },
    {
      "cell_type": "code",
      "metadata": {
        "_uuid": "6ae2b82d1003c4bc7fe4d503e7d9ddeca3f95b1e",
        "id": "B9T7WCHtH_Lk",
        "colab": {
          "base_uri": "https://localhost:8080/",
          "height": 129
        },
        "outputId": "1619bb0b-b3db-4c1f-da3b-b9793d8a4b59"
      },
      "source": [
        "def f(x):\n",
        "    y = abs(x)\n",
        "return y\n",
        "\n",
        "print(f(5))"
      ],
      "execution_count": null,
      "outputs": [
        {
          "output_type": "error",
          "ename": "SyntaxError",
          "evalue": "ignored",
          "traceback": [
            "\u001b[0;36m  File \u001b[0;32m\"<ipython-input-30-06660db13b4d>\"\u001b[0;36m, line \u001b[0;32m3\u001b[0m\n\u001b[0;31m    return y\u001b[0m\n\u001b[0m            ^\u001b[0m\n\u001b[0;31mSyntaxError\u001b[0m\u001b[0;31m:\u001b[0m 'return' outside function\n"
          ]
        }
      ]
    },
    {
      "cell_type": "code",
      "metadata": {
        "colab": {
          "base_uri": "https://localhost:8080/"
        },
        "id": "EJR5XRb4lJHu",
        "outputId": "74b244b9-2609-4f9a-8008-efe78efb49bb"
      },
      "source": [
        "#correct\n",
        "def f(x):\n",
        "    y = abs(x)\n",
        "    return y\n",
        "\n",
        "print(f(5))"
      ],
      "execution_count": null,
      "outputs": [
        {
          "output_type": "stream",
          "text": [
            "5\n"
          ],
          "name": "stdout"
        }
      ]
    },
    {
      "cell_type": "markdown",
      "metadata": {
        "_uuid": "dc94a365a7d7f7f974348e9e5ec597a2d5036c6b",
        "id": "fWh54vLbH_Lk"
      },
      "source": [
        "## 5. More and more Functions\n",
        "\n",
        "For this question, we'll be using two functions imported from Python's `time` module.\n",
        "\n",
        "### Time Function\n",
        "The [time](https://docs.python.org/3/library/time.html#time.time) function returns the number of seconds that have passed since the Epoch (aka [Unix time](https://en.wikipedia.org/wiki/Unix_time)). \n",
        "\n",
        "<!-- We've provided a function called `seconds_since_epoch` which returns the number of seconds that have passed since the Epoch (aka [Unix time](https://en.wikipedia.org/wiki/Unix_time)). -->\n",
        "\n",
        "Try it out below. Each time you run it, you should get a slightly larger number."
      ]
    },
    {
      "cell_type": "code",
      "metadata": {
        "_uuid": "6c219975b461ccac77cdb0cb8dd3527c0cef52fd",
        "id": "u8EvKE_MH_Lk",
        "colab": {
          "base_uri": "https://localhost:8080/"
        },
        "outputId": "3dc898e6-f690-4fc5-d5b1-84872db9706e"
      },
      "source": [
        "# Importing the function 'time' from the module of the same name. \n",
        "# (We'll discuss imports in more depth later)\n",
        "from time import time\n",
        "t = time()\n",
        "print(t, \"seconds since the Epoch\")"
      ],
      "execution_count": null,
      "outputs": [
        {
          "output_type": "stream",
          "text": [
            "1621930669.550714 seconds since the Epoch\n"
          ],
          "name": "stdout"
        }
      ]
    },
    {
      "cell_type": "markdown",
      "metadata": {
        "_uuid": "5b75363a5c9d514c41cc10f263083f16b078c81c",
        "id": "ESMJUPqAH_Ll"
      },
      "source": [
        "### Sleep Function\n",
        "We'll also be using a function called [sleep](https://docs.python.org/3/library/time.html#time.sleep), which makes us wait some number of seconds while it does nothing particular. (Sounds useful, right?)\n",
        "\n",
        "You can see it in action by running the cell below:"
      ]
    },
    {
      "cell_type": "code",
      "metadata": {
        "_uuid": "bc124bfa7c9ac5510fae42cb4c241768ab241502",
        "id": "jtVq4rFvH_Ll",
        "colab": {
          "base_uri": "https://localhost:8080/"
        },
        "outputId": "be780065-5034-492f-dabd-9757290a9604"
      },
      "source": [
        "from time import sleep\n",
        "duration = 7\n",
        "print(\"Getting sleepy. See you in\", duration, \"seconds\")\n",
        "sleep(duration)\n",
        "print(\"I'm back. What did I miss?\")"
      ],
      "execution_count": null,
      "outputs": [
        {
          "output_type": "stream",
          "text": [
            "Getting sleepy. See you in 7 seconds\n",
            "I'm back. What did I miss?\n"
          ],
          "name": "stdout"
        }
      ]
    },
    {
      "cell_type": "markdown",
      "metadata": {
        "_uuid": "c4e97a4e8267f2c210ada2949b084fa8c9742c9d",
        "id": "nf0LqYJQH_Lm"
      },
      "source": [
        "### Your Own Function\n",
        "With the help of these functions, complete the function **`time_call`** below according to its docstring.\n",
        "\n",
        "<!-- (The sleep function will be useful for testing here since we have a pretty good idea of what something like `time_call(sleep, 1)` should return.) -->"
      ]
    },
    {
      "cell_type": "code",
      "metadata": {
        "_uuid": "100e5013aea45c09e249bf1476d103b1f98daba4",
        "id": "r3GG9EUZH_Lm"
      },
      "source": [
        "def time_call(fn, arg):\n",
        "    \"\"\"Return the amount of time the given function takes (in seconds) when called with the given argument.\n",
        "    \"\"\"\n",
        "    t0 = time()\n",
        "    fn(arg)\n",
        "    t1 = time()\n",
        "    \n",
        "    return t1 - t0\n",
        "\n",
        "    pass"
      ],
      "execution_count": null,
      "outputs": []
    },
    {
      "cell_type": "code",
      "metadata": {
        "colab": {
          "base_uri": "https://localhost:8080/"
        },
        "id": "TmtnQmbHoJRa",
        "outputId": "9be337e9-eb87-477e-eb29-1cf3b572022c"
      },
      "source": [
        "time_call(sleep,5 )"
      ],
      "execution_count": null,
      "outputs": [
        {
          "output_type": "execute_result",
          "data": {
            "text/plain": [
              "5.005091428756714"
            ]
          },
          "metadata": {
            "tags": []
          },
          "execution_count": 44
        }
      ]
    },
    {
      "cell_type": "markdown",
      "metadata": {
        "_uuid": "45ba3ad3926ba61d0c9febfc129d8118b9f01518",
        "id": "d9lVy3MHH_Lm"
      },
      "source": [
        "How would you verify that `time_call` is working correctly? Think about it..."
      ]
    },
    {
      "cell_type": "markdown",
      "metadata": {
        "_uuid": "472d1778e82e6b7300823a7934ecb55a35a1bb42",
        "id": "T3aI-_8pH_Ln"
      },
      "source": [
        "## 6. 🌶️ Reuse your Function\n",
        "\n",
        "*Note: this question depends on a working solution to the previous question.*\n",
        "\n",
        "Complete the function below according to its docstring."
      ]
    },
    {
      "cell_type": "code",
      "metadata": {
        "_uuid": "21abdac6bcd885ef4916cf56a360aee37bce2479",
        "id": "9g0rKgT9H_Ln"
      },
      "source": [
        "def slowest_call(fn, arg1, arg2, arg3):\n",
        "    \"\"\"Return the amount of time taken by the slowest of the following function\n",
        "    calls: fn(arg1), fn(arg2), fn(arg3)\n",
        "    \n",
        "    \"\"\"\n",
        "    result= max(time_call(fn,arg1), time_call(fn,arg2), time_call(fn,arg3))\n",
        "\n",
        "    return result\n",
        "    pass"
      ],
      "execution_count": null,
      "outputs": []
    },
    {
      "cell_type": "code",
      "metadata": {
        "colab": {
          "base_uri": "https://localhost:8080/"
        },
        "id": "x0lYdI8LpgQP",
        "outputId": "b6d6426f-9f29-4d35-aac9-7eac785e225a"
      },
      "source": [
        "slowest_call(sleep,5,7,10)"
      ],
      "execution_count": null,
      "outputs": [
        {
          "output_type": "execute_result",
          "data": {
            "text/plain": [
              "10.010088920593262"
            ]
          },
          "metadata": {
            "tags": []
          },
          "execution_count": 47
        }
      ]
    },
    {
      "cell_type": "markdown",
      "metadata": {
        "_uuid": "d1c0353110c1b9578af9bbc20e4a9e0f6717a34e",
        "id": "6_hMwbqdH_Lo"
      },
      "source": [
        "# Keep Going"
      ]
    }
  ]
}
