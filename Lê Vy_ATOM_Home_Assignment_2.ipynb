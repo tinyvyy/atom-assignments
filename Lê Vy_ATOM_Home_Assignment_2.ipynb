{
  "nbformat": 4,
  "nbformat_minor": 0,
  "metadata": {
    "colab": {
      "name": "ATOM_Home_Assignment_2.ipynb",
      "provenance": [],
      "collapsed_sections": [],
      "toc_visible": true,
      "include_colab_link": true
    },
    "kernelspec": {
      "display_name": "Python 3",
      "name": "python3"
    },
    "language_info": {
      "name": "python"
    }
  },
  "cells": [
    {
      "cell_type": "markdown",
      "metadata": {
        "id": "view-in-github",
        "colab_type": "text"
      },
      "source": [
        "<a href=\"https://colab.research.google.com/github/tinyvyy/atom-assignments/blob/main/L%C3%AA%20Vy_ATOM_Home_Assignment_2.ipynb\" target=\"_parent\"><img src=\"https://colab.research.google.com/assets/colab-badge.svg\" alt=\"Open In Colab\"/></a>"
      ]
    },
    {
      "cell_type": "markdown",
      "metadata": {
        "id": "WNjHxu0-0Urk"
      },
      "source": [
        "## 0. Initial Set-up"
      ]
    },
    {
      "cell_type": "markdown",
      "metadata": {
        "id": "ky3QJTULRGhG"
      },
      "source": [
        "1. Clone this Github repo về máy: https://github.com/anhdanggit/atom-assignments\n",
        "2. Mở file `env_variable_test.json`. Thay đổi & Đổi tên thành `env_variable.json`: \n",
        "  - `\"SENDER_EMAIL\"`: Email của bạn\n",
        "  - `\"PWD_EMAIL\"`: App Password tương ứng với Email trên (Hướng Dẫn: [link](https://support.google.com/accounts/answer/185833?p=InvalidSecondFactor&visit_id=637562139468610337-3856071038&rd=1))\n",
        "  - `\"WEATHER_API_KEY\"`: API Key của account của bạn trên [Open Weather Map](https://support.google.com/accounts/answer/185833?p=InvalidSecondFactor&visit_id=637562139468610337-3856071038&rd=1)\n",
        "3. Upload lên Files hoặc Google Drive, nếu bạn sử dụng Google Colab.\n",
        "\n",
        "**!!!! NOTICE !!!!** File json sau khi cho các thông tin thực của bạn, KHÔNG đưa lên Github hay để public. Tips: Để tên `env_variable.json` trong file `.gitignore` để Git tự động ignore không publish file này."
      ]
    },
    {
      "cell_type": "markdown",
      "metadata": {
        "id": "mQHvoBrV2wAS"
      },
      "source": [
        "### 0.1. Environment Variables"
      ]
    },
    {
      "cell_type": "markdown",
      "metadata": {
        "id": "wsarlH3fTc0_"
      },
      "source": [
        "Đặt `!` phía trước 1 cell để bắt đầu viết lệnh [Shell Commands](https://docs.cs.cf.ac.uk/notes/linux-shell-commands/) (đây là các lệnh giao tiếp với OS - Hệ điều hành đang dùng bên dưới để chạy Colab Notebook)"
      ]
    },
    {
      "cell_type": "code",
      "metadata": {
        "id": "y19KvBO1mN6h"
      },
      "source": [
        "from google.colab import drive # để  connect  với  drive  \n",
        "drive.mount('/content/drive')"
      ],
      "execution_count": null,
      "outputs": []
    },
    {
      "cell_type": "code",
      "metadata": {
        "id": "k94gNtAKNKDy"
      },
      "source": [
        "from google.colab import drive\n",
        "drive.mount('/content/drive')"
      ],
      "execution_count": null,
      "outputs": []
    },
    {
      "cell_type": "code",
      "metadata": {
        "id": "ZueG-xQxLW4b"
      },
      "source": [
        "import os  \n",
        "os.listdir(drive/MyDrive)"
      ],
      "execution_count": null,
      "outputs": []
    },
    {
      "cell_type": "code",
      "metadata": {
        "id": "I2nTgPRQ1MjI"
      },
      "source": [
        "!ls #để liệt kể các files đang có trong cùng \"folder\" với file notebook"
      ],
      "execution_count": null,
      "outputs": []
    },
    {
      "cell_type": "code",
      "metadata": {
        "id": "3EPceevo0yWp"
      },
      "source": [
        "!python env_variables.py #để chạy một file python (bên ngoài notebook)"
      ],
      "execution_count": null,
      "outputs": []
    },
    {
      "cell_type": "code",
      "metadata": {
        "id": "j3Fv0NUdXyd1"
      },
      "source": [
        "import json\n",
        "with open('env_variable.json', 'r') as j:\n",
        "    json_data = json.load(j)\n",
        "    print(json_data)"
      ],
      "execution_count": null,
      "outputs": []
    },
    {
      "cell_type": "code",
      "metadata": {
        "id": "oxJE2SMps4mP"
      },
      "source": [
        "print(json_data['SENDER_EMAIL'])"
      ],
      "execution_count": null,
      "outputs": []
    },
    {
      "cell_type": "markdown",
      "metadata": {
        "id": "ZWYv-VjeZpK2"
      },
      "source": [
        "### Concept: JSON File\n",
        "* JSON là một dạng đa ta phổ biến, có dạng key-value. Nghĩa là những giá trị bên trong có thể \"gọi\" bằng các key, tương tự cấu trúc của Dictionary (Week 2)\n",
        "* Reference: [JSON Data in Python](https://www.datacamp.com/community/tutorials/json-data-python?utm_source=adwords_ppc&utm_campaignid=1455363063&utm_adgroupid=65083631748&utm_device=c&utm_keyword=&utm_matchtype=b&utm_network=g&utm_adpostion=&utm_creative=278443377095&utm_targetid=aud-522010995285:dsa-429603003980&utm_loc_interest_ms=&utm_loc_physical_ms=1028581&gclid=Cj0KCQjws-OEBhCkARIsAPhOkIYshv7eHMZhcLYnRmnCVdoXMbchc_nxeSYbyoGnSlauIGaJWudvBf8aAql6EALw_wcB)"
      ]
    },
    {
      "cell_type": "markdown",
      "metadata": {
        "id": "TPqTOA8DbGgq"
      },
      "source": [
        "### TODO #1\n",
        "1. Thử un-comment bằng cách để dấu nháy chuột ở dòng print(json_data) và nhấn `Ctrl+/`. Sau đó, chạy lại.\n",
        "2. Cấu trúc của `json_data` tương tự `dictionary`: thử gọi biến `SENDER_EMAIL` trong file json và `print`\n",
        "=> Task này sẽ giúp bạn tìm hiểu thêm về cấu trúc của 1 file JSON."
      ]
    },
    {
      "cell_type": "markdown",
      "metadata": {
        "id": "1SU_ozhPU2B1"
      },
      "source": [
        "### Concept: Environment Variables\n",
        "* [Environment Variables](https://medium.com/chingu/an-introduction-to-environment-variables-and-how-to-use-them-f602f66d15fa#:~:text=An%20environment%20variable%20is%20a,at%20a%20point%20in%20time.) là các biến (variable) được set bên ngoài program\n",
        "* Lý do: Có một số value có tính nhạy cảm (password), việc để trong code (và đưa lên Git) sẽ không bảo mật các thông tin này\n",
        "\n",
        "Trong đoạn code dưới, ta giữ các thông tin nhạy cảm khỏi code bằng việc lưu giữ trong một file json, và gọi các giá trị `SENDER_MAIL`, `PWD_EMAIL`, `API_KEY` lưu vào Environmental Variables."
      ]
    },
    {
      "cell_type": "code",
      "metadata": {
        "id": "4vlqLayL2IDd"
      },
      "source": [
        "#lấy dữ liệu từ JSON gắn vào Environment Variables \n",
        "import os\n",
        "os.environ['SENDER_EMAIL'] = json_data['SENDER_EMAIL'] ## INPUT: Your Email\n",
        "os.environ['PWD_EMAIL'] = json_data['PWD_EMAIL'] ## INPUT: Your App Password\n",
        "os.environ['WEATHER_API_KEY'] = json_data['WEATHER_API_KEY'] ## INPUT: OpenWeather API Key\n",
        "print('DONE! Get Env. Variable')"
      ],
      "execution_count": null,
      "outputs": []
    },
    {
      "cell_type": "code",
      "metadata": {
        "id": "pnWQlWHMZja7",
        "colab": {
          "base_uri": "https://localhost:8080/"
        },
        "outputId": "ad8c6d9e-908a-41db-bf54-a89a3f02983b"
      },
      "source": [
        "print(os.environ['SENDER_EMAIL'])"
      ],
      "execution_count": 42,
      "outputs": [
        {
          "output_type": "stream",
          "text": [
            "levy6543@gmail.com\n"
          ],
          "name": "stdout"
        }
      ]
    },
    {
      "cell_type": "markdown",
      "metadata": {
        "id": "fnJtI0S12eh-"
      },
      "source": [
        "### 0.2. Import Modules\n",
        "\n",
        "\n",
        "*   [Modules](https://docs.python.org/3/tutorial/modules.html): là một file gồm các definitions & statements trong python. Nói nôm ra, modules là một gói chứa nhiều functions. \n",
        "*   Dấu `.` chỉ sự \"thuộc về\": a.b.c nghĩa là c nằm trong b, b nằm trong a. Ví dụ: `json.load()` nghĩa là function `load()` trong module `json()`\n",
        "*   Load một module bằng `import` \n",
        "*   Install một module vào máy bằng: `!pip install`. Có dấu `!`, nghĩa là **Shell Commands**\n",
        "\n",
        "Dưới đây ta import tất cả các module cần sử dụng cho Assignment, một practice tốt là gom hết các modules và install trên đầu notebook/file code.\n",
        "\n"
      ]
    },
    {
      "cell_type": "code",
      "metadata": {
        "id": "pbOfgkfU3XYz",
        "colab": {
          "base_uri": "https://localhost:8080/"
        },
        "outputId": "af7b2cd6-ca9a-48b0-a6f9-6512fa51a528"
      },
      "source": [
        "!pip install beautifulsoup4"
      ],
      "execution_count": 43,
      "outputs": [
        {
          "output_type": "stream",
          "text": [
            "Requirement already satisfied: beautifulsoup4 in /usr/local/lib/python3.7/dist-packages (4.6.3)\n"
          ],
          "name": "stdout"
        }
      ]
    },
    {
      "cell_type": "code",
      "metadata": {
        "id": "C0dJywJtOtEK"
      },
      "source": [
        "import email, smtplib, ssl # to automate email\n",
        "import email as mail\n",
        "from email import encoders\n",
        "from email.mime.base import MIMEBase\n",
        "from email.mime.multipart import MIMEMultipart\n",
        "from email.mime.text import MIMEText\n",
        "\n",
        "import requests, json # to pull API, and work with json\n",
        "import datetime as dt # to work with date, time\n",
        "from bs4 import BeautifulSoup # to work with web scrapping (HTML)\n",
        "import pandas as pd # to work with tables (DataFrames) data\n",
        "from IPython.core.display import HTML # to display HTML in the notebook"
      ],
      "execution_count": 44,
      "outputs": []
    },
    {
      "cell_type": "markdown",
      "metadata": {
        "id": "KkJiWpgkgNyB"
      },
      "source": [
        "## 1. Email Bot\n",
        "Đoạn code sau để gửi email:\n",
        "- Từ: `SENDER_EMAIL`\n",
        "- Đến: `RECEIVER_MAIL`\n",
        "- Với subject và body gồm 3 phần: Phần nội dung được viết bằng HTML, nếu chưa quen thuộc bạn có thể dùng công cụ xong để convert từ style của MS Word sang HTML: https://wordtohtml.net/"
      ]
    },
    {
      "cell_type": "code",
      "metadata": {
        "colab": {
          "base_uri": "https://localhost:8080/"
        },
        "id": "9unEmluARSpH",
        "outputId": "ac3dee0c-eec4-4729-f278-ef18281c3093"
      },
      "source": [
        "subject = \"Test Email\" #INPUT1: Subject of the Email\n",
        "receiver_email = input(\"Your email: \") #INPUT2: email address to receive the email\n",
        "sender_email = os.environ['SENDER_EMAIL']\n",
        "password = os.environ['PWD_EMAIL'] \n",
        "\n",
        "# (1) Create the email head (sender, receiver, and subject)\n",
        "email = MIMEMultipart()\n",
        "email[\"From\"] = sender_email\n",
        "email[\"To\"] = receiver_email \n",
        "email[\"Subject\"] = subject\n",
        "\n",
        "# (2) Create Body part\n",
        "# We use html, you can convert word to html: https://wordtohtml.net/\n",
        "html1 = \"\"\"\n",
        "    <html>\n",
        "    <h1><strong>Hello World</strong></h1>\n",
        "    <body>\n",
        "    <p>Hi!<br>\n",
        "       How are you?<br>\n",
        "       Here is the <a href=\"https://docs.python.org/3.4/library/email-examples.html\">link</a> you wanted.\n",
        "    </p>\n",
        "    </body>\n",
        "    </html>\n",
        "    \"\"\"\n",
        "html2 = \"\"\"\n",
        "<html>\n",
        "Email sent at <b>{}</b><br>\n",
        "</html>\n",
        "\"\"\".format(dt.datetime.now().isoformat())\n",
        "\n",
        "text3 = '--- End ----'\n",
        "\n",
        "# Combine parts\n",
        "part1 = MIMEText(html1, 'html')\n",
        "part2 = MIMEText(html2, 'html')\n",
        "part3 = MIMEText(text3, 'plain')\n",
        "\n",
        "email.attach(part1)\n",
        "email.attach(part2)\n",
        "email.attach(part3)\n",
        "\n",
        "# (3) Create SMTP session for sending the mail\n",
        "session = smtplib.SMTP('smtp.gmail.com', 587) #use gmail with port\n",
        "session.starttls() #enable security\n",
        "session.login(sender_email, password) #login with mail_id and password\n",
        "text = email.as_string()\n",
        "session.sendmail(sender_email, receiver_email, text)\n",
        "session.quit()\n",
        "\n",
        "print('DONE! Mail Sent'.format(sender_email, receiver_email))"
      ],
      "execution_count": 7,
      "outputs": [
        {
          "output_type": "stream",
          "text": [
            "Your email: levy6543@gmail.com\n",
            "DONE! Mail Sent\n"
          ],
          "name": "stdout"
        }
      ]
    },
    {
      "cell_type": "markdown",
      "metadata": {
        "id": "LKXSTGhMiyGa"
      },
      "source": [
        "### TODO #2\n",
        "1.   Từ Email Bot Code viết function `send_email`:\n",
        "  - **inputs**: subject, receiver_email, part1, part2, part3\n",
        "  - **output**: thực hiện việc gửi email và in ra kết quả\n",
        "2.   Kết hợp Loops (For ... in) với function để gửi cùng nội dung email đến 1 list user: `email_list = ['abc@gmail.com', 'xyz@gmail.com']` (thay đổi email bằng các email thật của bạn để test)"
      ]
    },
    {
      "cell_type": "code",
      "metadata": {
        "id": "lUFaUYHS54Ir"
      },
      "source": [
        "def send_email (receiver_email, subject, part1, part2, part3, session):\n",
        "    #YOUR CODE \n",
        "    sender_email = os.environ['SENDER_EMAIL']\n",
        "    password = os.environ['PWD_EMAIL'] \n",
        "\n",
        "    # (1) Create the email head (sender, receiver, and subject)\n",
        "    email = MIMEMultipart()\n",
        "    email[\"From\"] = sender_email\n",
        "    email[\"To\"] = receiver_email \n",
        "    email[\"Subject\"] = subject\n",
        "\n",
        "    # Combine parts\n",
        "    part1 = MIMEText(part1, 'html')\n",
        "    part2 = MIMEText(part2, 'html')\n",
        "    part3 = MIMEText(part3, 'plain')\n",
        "\n",
        "    email.attach(part1)\n",
        "    email.attach(part2)\n",
        "    email.attach(part3)\n",
        "\n",
        "    # (3) Create SMTP session for sending the mail\n",
        "    #session = smtplib.SMTP('smtp.gmail.com', 587) #use gmail with port\n",
        "    #session.starttls() #enable security\n",
        "    #session.login(sender_email, password) #login with mail_id and password\n",
        "    #session.quit()\n",
        "    text = email.as_string()\n",
        "    session.sendmail(sender_email, receiver_email, text)\n",
        "\n",
        "    print('DONE! Mail Sent'.format(sender_email, receiver_email))"
      ],
      "execution_count": 8,
      "outputs": []
    },
    {
      "cell_type": "code",
      "metadata": {
        "colab": {
          "base_uri": "https://localhost:8080/"
        },
        "id": "Gfw6UkBr6ffq",
        "outputId": "cf94d08b-8bc0-4463-863d-49e86fee23b8"
      },
      "source": [
        "#Open session email: \n",
        "session = smtplib.SMTP('smtp.gmail.com', 587) #use gmail with port\n",
        "session.starttls() #enable security\n",
        "session.login(sender_email, password) #login with mail_id and password\n",
        "#nhớ khai báo biến session \n",
        "\n",
        "email_list = ['levy6543@gmail.com','thaovy.le@e2.com.vn']\n",
        "for i in email_list:\n",
        "    #YOUR CODE  \n",
        "    send_email(i,\"Hello\", \"This is \", \"testing \", \"email function\", session)\n",
        "\n",
        "session.quit()"
      ],
      "execution_count": 9,
      "outputs": [
        {
          "output_type": "stream",
          "text": [
            "DONE! Mail Sent\n",
            "DONE! Mail Sent\n"
          ],
          "name": "stdout"
        },
        {
          "output_type": "execute_result",
          "data": {
            "text/plain": [
              "(221, b'2.0.0 closing connection v12sm9229497ilj.44 - gsmtp')"
            ]
          },
          "metadata": {
            "tags": []
          },
          "execution_count": 9
        }
      ]
    },
    {
      "cell_type": "markdown",
      "metadata": {
        "id": "RM7HKTGIh9IC"
      },
      "source": [
        "## Call API"
      ]
    },
    {
      "cell_type": "markdown",
      "metadata": {
        "id": "z22CtbW8mvqh"
      },
      "source": [
        "### Concept: API\n",
        "* **API** ([Application Programming Interface](https://en.wikipedia.org/wiki/API)): Là cách thức và phương tiện để 2 applications nói chuyện với nhau. Ở đây là giữa Python program trên Colab của bạn và các Web application khác. \n",
        "* Đây là concept nền tảng trong việc Automation\n",
        "* API nhận input là JSON file (có khi không nhận) và trả lại output là JSON file => Request/Call API\n",
        "* Đây là một cách phổ biến đế gửi và nhận data\n",
        "\n",
        "Đoạn code bên dưới: \n",
        "* Lấy input là `API_KEY`, country, ta request **API** của Open Weather\n",
        "* Được trả lại file kết quả dưới dạng `JSON`\n",
        "* Trích xuất 1 vài thông tin, và lưu ra file text"
      ]
    },
    {
      "cell_type": "code",
      "metadata": {
        "id": "3ZzdPfFbiCZa",
        "colab": {
          "base_uri": "https://localhost:8080/"
        },
        "outputId": "74c8ab8a-682b-4f25-cc12-545f32a0695e"
      },
      "source": [
        "# base URL\n",
        "BASE_URL = \"https://api.openweathermap.org/data/2.5/weather?\"\n",
        "# City Name \n",
        "CITY = \"London\"\n",
        "# API key \n",
        "API_KEY = os.environ['WEATHER_API_KEY']\n",
        "# updating the URL\n",
        "URL = BASE_URL + \"q=\" + CITY + \"&appid=\" + API_KEY\n",
        "# HTTP request\n",
        "response = requests.get(URL)\n",
        "# checking the status code of the request\n",
        "if response.status_code == 200: #200 = success \n",
        "   # getting data in the json format\n",
        "   data = response.json()\n",
        "   # getting the main dict block\n",
        "   main = data['main']\n",
        "   # getting temperature\n",
        "   temperature = main['temp']\n",
        "   # getting the humidity\n",
        "   humidity = main['humidity']\n",
        "   # getting the pressure\n",
        "   pressure = main['pressure']\n",
        "   # weather report\n",
        "   report = data['weather']\n",
        "   f = open('weather.txt','w') ## write to text file\n",
        "   print(f\"{CITY:-^30}\", file=f) #format chữ City có dấu gạch \n",
        "   print(f\"Temperature: {temperature}\", file=f)\n",
        "   print(f\"Humidity: {humidity}\", file=f)\n",
        "   print(f\"Pressure: {pressure}\", file=f)\n",
        "   print(f\"Weather Report: {report[0]['description']}\", file=f)\n",
        "   f.close()\n",
        "   print(\"DONE! Output in weather.txt file\")\n",
        "else:\n",
        "   # showing the error message\n",
        "   print(\"Error in the HTTP request\")\n",
        "   print(response)"
      ],
      "execution_count": 10,
      "outputs": [
        {
          "output_type": "stream",
          "text": [
            "DONE! Output in weather.txt file\n"
          ],
          "name": "stdout"
        }
      ]
    },
    {
      "cell_type": "code",
      "metadata": {
        "id": "aOTClQTCn7wh"
      },
      "source": [
        "!ls"
      ],
      "execution_count": null,
      "outputs": []
    },
    {
      "cell_type": "code",
      "metadata": {
        "id": "I_4mwiKRpVzJ",
        "colab": {
          "base_uri": "https://localhost:8080/"
        },
        "outputId": "6879531e-703e-46b4-b200-9ee02b78ee95"
      },
      "source": [
        "print(open(\"weather.txt\", \"r\").read())"
      ],
      "execution_count": 18,
      "outputs": [
        {
          "output_type": "stream",
          "text": [
            "------------London------------\n",
            "Temperature: 278.2\n",
            "Humidity: 91\n",
            "Pressure: 1011\n",
            "Weather Report: overcast clouds\n",
            "\n"
          ],
          "name": "stdout"
        }
      ]
    },
    {
      "cell_type": "code",
      "metadata": {
        "id": "kqwsvfxolao7"
      },
      "source": [
        "# Khám phá file JSON\n",
        "data"
      ],
      "execution_count": null,
      "outputs": []
    },
    {
      "cell_type": "code",
      "metadata": {
        "id": "9m9ccXB6nOyN"
      },
      "source": [
        "data['name']"
      ],
      "execution_count": null,
      "outputs": []
    },
    {
      "cell_type": "code",
      "metadata": {
        "id": "kZf1vd1D_G_s"
      },
      "source": [
        "data[\"weather\"]"
      ],
      "execution_count": null,
      "outputs": []
    },
    {
      "cell_type": "markdown",
      "metadata": {
        "id": "jbmpcldqGhuk"
      },
      "source": [
        "### TODO #3\n",
        "1. Trên file json kết quả:\n",
        "  - Lấy thông tin trạng thái thời tiết (weather) chính (main) ở London\n",
        "  - Lấy lat & lon (kinh độ và vĩ độ của London)\n",
        "2. Viết function `get_weather_data` \n",
        "  - inputs: city\n",
        "  - outputs: đoạn text thông tin thời tiết\n",
        "3. Dùng function `send_email` in **TODO #1**, thay phần 3 trong nội dùng email bằng thông tin thời tiết của London gửi cho 1 địa chỉ email của bạn"
      ]
    },
    {
      "cell_type": "code",
      "metadata": {
        "colab": {
          "base_uri": "https://localhost:8080/"
        },
        "id": "aF7-XzFa7Y3u",
        "outputId": "79d9a92d-ff7b-4205-c3d0-318b9cc9510a"
      },
      "source": [
        "list(data.keys())"
      ],
      "execution_count": 11,
      "outputs": [
        {
          "output_type": "execute_result",
          "data": {
            "text/plain": [
              "['coord',\n",
              " 'weather',\n",
              " 'base',\n",
              " 'main',\n",
              " 'visibility',\n",
              " 'wind',\n",
              " 'clouds',\n",
              " 'dt',\n",
              " 'sys',\n",
              " 'timezone',\n",
              " 'id',\n",
              " 'name',\n",
              " 'cod']"
            ]
          },
          "metadata": {
            "tags": []
          },
          "execution_count": 11
        }
      ]
    },
    {
      "cell_type": "code",
      "metadata": {
        "id": "p9tm-FzIoof1",
        "colab": {
          "base_uri": "https://localhost:8080/",
          "height": 35
        },
        "outputId": "55913744-f6af-4b05-bdc7-b116c087a55d"
      },
      "source": [
        "# Task 1 \n",
        "\n",
        "data[\"weather\"][0][\"main\"] "
      ],
      "execution_count": 12,
      "outputs": [
        {
          "output_type": "execute_result",
          "data": {
            "application/vnd.google.colaboratory.intrinsic+json": {
              "type": "string"
            },
            "text/plain": [
              "'Clouds'"
            ]
          },
          "metadata": {
            "tags": []
          },
          "execution_count": 12
        }
      ]
    },
    {
      "cell_type": "code",
      "metadata": {
        "id": "Uw2RESyb7Tbv",
        "colab": {
          "base_uri": "https://localhost:8080/"
        },
        "outputId": "a14de17e-5521-4dc0-be9e-73bcd3e52ad3"
      },
      "source": [
        "data[\"coord\"]"
      ],
      "execution_count": 13,
      "outputs": [
        {
          "output_type": "execute_result",
          "data": {
            "text/plain": [
              "{'lat': 51.5085, 'lon': -0.1257}"
            ]
          },
          "metadata": {
            "tags": []
          },
          "execution_count": 13
        }
      ]
    },
    {
      "cell_type": "code",
      "metadata": {
        "id": "onTj-Et3o2PO",
        "colab": {
          "base_uri": "https://localhost:8080/",
          "height": 86
        },
        "outputId": "a2b67b5c-d7b5-4f93-93cb-ad58e3595ce4"
      },
      "source": [
        "#Task 2\n",
        "\n",
        "def get_weather_data(city):\n",
        "    # base URL\n",
        "    BASE_URL = \"https://api.openweathermap.org/data/2.5/weather?\"\n",
        "    # City Name \n",
        "    CITY = city\n",
        "    result = \"\"\n",
        "    # API key \n",
        "    API_KEY = os.environ['WEATHER_API_KEY']\n",
        "    # upadting the URL\n",
        "    URL = BASE_URL + \"q=\" + CITY + \"&appid=\" + API_KEY\n",
        "    # HTTP request\n",
        "    response = requests.get(URL)\n",
        "\n",
        "    # checking the status code of the request\n",
        "    if response.status_code == 200:\n",
        "        # getting data in the json format\n",
        "        data = response.json()\n",
        "        # getting the main dict block\n",
        "        main = data['main']\n",
        "        # getting temperature\n",
        "        temperature = main['temp']\n",
        "        # getting the humidity\n",
        "        humidity = main['humidity']\n",
        "        # getting the pressure\n",
        "        pressure = main['pressure']\n",
        "        # weather report\n",
        "        report = data['weather']\n",
        "\n",
        "        print(\"DONE!\")\n",
        "        result = \"Temperature \" + str(temperature ) + \" - Humidity  \" + str(humidity) \\\n",
        "                  + \" - Pressure \" +str(pressure) + \" - Report\" + str(report)\n",
        "\n",
        "    else:\n",
        "        # showing the error message\n",
        "        print(\"Error in the HTTP request\")\n",
        "        print(response)\n",
        "\n",
        "    return result \n",
        "       \n",
        "\n",
        "get_weather_data(input('City  name:'))\n"
      ],
      "execution_count": 17,
      "outputs": [
        {
          "output_type": "stream",
          "text": [
            "City  name:Da Lat\n",
            "DONE!\n"
          ],
          "name": "stdout"
        },
        {
          "output_type": "execute_result",
          "data": {
            "application/vnd.google.colaboratory.intrinsic+json": {
              "type": "string"
            },
            "text/plain": [
              "\"Temperature 294.91 - Humidity  85 - Pressure 1009 - Report[{'id': 804, 'main': 'Clouds', 'description': 'overcast clouds', 'icon': '04d'}]\""
            ]
          },
          "metadata": {
            "tags": []
          },
          "execution_count": 17
        }
      ]
    },
    {
      "cell_type": "code",
      "metadata": {
        "id": "mU2wGSiBxDCB"
      },
      "source": [
        "print(open(\"weather.txt\", \"r\").read())"
      ],
      "execution_count": null,
      "outputs": []
    },
    {
      "cell_type": "code",
      "metadata": {
        "colab": {
          "base_uri": "https://localhost:8080/"
        },
        "id": "BxVhcoDuo78n",
        "outputId": "75d74675-2101-45de-fda8-1e4523bb209c"
      },
      "source": [
        "#Open session email: \n",
        "session = smtplib.SMTP('smtp.gmail.com', 587) #use gmail with port\n",
        "session.starttls() #enable security\n",
        "session.login(sender_email, password) #login with mail_id and password\n",
        "\n",
        "send_email('levy6543@gmail.com', \"Weather Information\", \"This is \", \"weather information for London \", get_weather_data('London'), session)\n",
        "\n",
        "session.quit()"
      ],
      "execution_count": 19,
      "outputs": [
        {
          "output_type": "stream",
          "text": [
            "DONE!\n",
            "DONE! Mail Sent\n"
          ],
          "name": "stdout"
        },
        {
          "output_type": "execute_result",
          "data": {
            "text/plain": [
              "(221, b'2.0.0 closing connection q3sm8802199ild.79 - gsmtp')"
            ]
          },
          "metadata": {
            "tags": []
          },
          "execution_count": 19
        }
      ]
    },
    {
      "cell_type": "markdown",
      "metadata": {
        "id": "9lJY0KlSrLIy"
      },
      "source": [
        "### Concept: Web Scrapping\n",
        "* Web Scrapping là hoạt động lấy data từ các website. Nội dung của các website được trình bày bằng HTML\n",
        "* Để hiểu cấu trúc của HTML: Có thể vào `Chrome => More Tools => Developer Tools`\n",
        "* Cấu trúc và cách lấy giá trị của HTML cũng tương tự như JSON và Dictionary.\n",
        "* BeautifulSoup là một modules cho phép ta trích xuất thông tin từ HTML dễ dàng hơn\n",
        "\n",
        "**Reference**\n",
        "https://www.freecodecamp.org/news/scraping-wikipedia-articles-with-python/"
      ]
    },
    {
      "cell_type": "code",
      "metadata": {
        "colab": {
          "base_uri": "https://localhost:8080/"
        },
        "id": "Bnp36lyEtxS0",
        "outputId": "0d779ac6-a525-404f-99aa-353a17fcc5ba"
      },
      "source": [
        "#making a  request  \n",
        "response = requests.get(\n",
        "\turl=\"https://en.wikipedia.org/wiki/COVID-19\",\n",
        "  )\n",
        "print(\"API Status Code: \"+ str(response.status_code)) #print status  code  \n",
        "soup = BeautifulSoup(response.content, 'html.parser')\n",
        "\n",
        "title = soup.find(id=\"firstHeading\") #find title  \n",
        "print(title.string) #print title  "
      ],
      "execution_count": 20,
      "outputs": [
        {
          "output_type": "stream",
          "text": [
            "API Status Code: 200\n",
            "COVID-19\n"
          ],
          "name": "stdout"
        }
      ]
    },
    {
      "cell_type": "code",
      "metadata": {
        "id": "lY8xzPlJt5U3"
      },
      "source": [
        "response.content ## Explore contents"
      ],
      "execution_count": null,
      "outputs": []
    },
    {
      "cell_type": "code",
      "metadata": {
        "id": "jvjNUghruM3j"
      },
      "source": [
        "# Get all the links\n",
        "p = soup.find(id=\"bodyContent\").find_all(\"p\") # \"a\""
      ],
      "execution_count": 22,
      "outputs": []
    },
    {
      "cell_type": "code",
      "metadata": {
        "colab": {
          "base_uri": "https://localhost:8080/",
          "height": 87
        },
        "id": "Hecg5C84vkzJ",
        "outputId": "a02ec3e9-18e8-421b-b640-dbadeb1bcf3b"
      },
      "source": [
        "from IPython.core.display import HTML\n",
        "HTML(str(p[3]))"
      ],
      "execution_count": 23,
      "outputs": [
        {
          "output_type": "execute_result",
          "data": {
            "text/html": [
              "<p><b>Coronavirus disease 2019</b> (<b>COVID-19</b>), also known as <b>the coronavirus</b>, or <b>COVID</b>, is a <a href=\"/wiki/Contagious_disease\" title=\"Contagious disease\">contagious disease</a> caused by <a href=\"/wiki/Severe_acute_respiratory_syndrome_coronavirus_2\" title=\"Severe acute respiratory syndrome coronavirus 2\">severe acute respiratory syndrome coronavirus 2</a> (SARS-CoV-2). The first known case was identified in <a href=\"/wiki/Wuhan\" title=\"Wuhan\">Wuhan</a>, China, in December <a href=\"/wiki/2019\" title=\"2019\">2019</a>.<sup class=\"reference\" id=\"cite_ref-WSJ-20210226_7-0\"><a href=\"#cite_note-WSJ-20210226-7\">[7]</a></sup> The disease has since spread worldwide, leading to an <a href=\"/wiki/COVID-19_pandemic\" title=\"COVID-19 pandemic\">ongoing pandemic</a>.<sup class=\"reference\" id=\"cite_ref-NYT-20210226_8-0\"><a href=\"#cite_note-NYT-20210226-8\">[8]</a></sup>\n",
              "</p>"
            ],
            "text/plain": [
              "<IPython.core.display.HTML object>"
            ]
          },
          "metadata": {
            "tags": []
          },
          "execution_count": 23
        }
      ]
    },
    {
      "cell_type": "code",
      "metadata": {
        "id": "uFT_GTV8F1n8"
      },
      "source": [
        "#3,4 là số thứ tự của đoạn paragraph "
      ],
      "execution_count": null,
      "outputs": []
    },
    {
      "cell_type": "markdown",
      "metadata": {
        "id": "d7YEfY3qqq10"
      },
      "source": [
        "### TODO #4\n",
        "1. Dùng function `send_email` in Excercise 1.1, thay phần 3 trong nội dùng email bằng thông tin COVID-19 từ Wikipedia gửi cho 1 địa chỉ email của bạn"
      ]
    },
    {
      "cell_type": "code",
      "metadata": {
        "id": "NG3_Y8ZSGGca"
      },
      "source": [
        "EMAIL = \"levy6543@gmail.com\" #constant thì viết hoa"
      ],
      "execution_count": 25,
      "outputs": []
    },
    {
      "cell_type": "code",
      "metadata": {
        "id": "kja2XY57rHgo",
        "colab": {
          "base_uri": "https://localhost:8080/"
        },
        "outputId": "5bec6bd5-2d20-478b-8d2b-695af0823fe7"
      },
      "source": [
        "#Open session email: \n",
        "session = smtplib.SMTP('smtp.gmail.com', 587) #use gmail with port\n",
        "session.starttls() #enable security\n",
        "session.login(sender_email, password) #login with mail_id and password\n",
        "\n",
        "#YOUR CODE  \n",
        "send_email(EMAIL,\"Covid19\", \"This is information about Covid19 \", \\\n",
        "          str(p[4]), \"Thank you for reading\", session )\n",
        "\n",
        "session.quit()"
      ],
      "execution_count": 26,
      "outputs": [
        {
          "output_type": "stream",
          "text": [
            "DONE! Mail Sent\n"
          ],
          "name": "stdout"
        },
        {
          "output_type": "execute_result",
          "data": {
            "text/plain": [
              "(221, b'2.0.0 closing connection z8sm1024084ilq.30 - gsmtp')"
            ]
          },
          "metadata": {
            "tags": []
          },
          "execution_count": 26
        }
      ]
    },
    {
      "cell_type": "markdown",
      "metadata": {
        "id": "kxfS-b_T2W0a"
      },
      "source": [
        "## CSV"
      ]
    },
    {
      "cell_type": "markdown",
      "metadata": {
        "id": "3ssJNK-0rUo4"
      },
      "source": [
        "### Concept CSV\n",
        "* CSV là dạng data có các cột được ngăn cách bằng dấu phẩy ([Comma-separated value](https://en.wikipedia.org/wiki/Comma-separated_values#:~:text=A%20comma%2Dseparated%20values%20(CSV,more%20fields%2C%20separated%20by%20commas.))\n",
        "* Đây là dạng data (bảng) cực kỳ phổ biến trong Data Analytics & Data Science\n",
        "* Có thể đọc, ghi, và xử lý bằng `pandas`"
      ]
    },
    {
      "cell_type": "code",
      "metadata": {
        "id": "36c89M5BymVw"
      },
      "source": [
        "csv = \"\"\"email,contents,city\n",
        "levy6543@gmail.com,News,Hanoi\n",
        "thaovy.le@e2.com.vn,Weather,London\n",
        "\"\"\"\n",
        "f = open('email_list.csv','w') ## write to text file\n",
        "f.write(csv)\n",
        "f.close()"
      ],
      "execution_count": 27,
      "outputs": []
    },
    {
      "cell_type": "code",
      "metadata": {
        "id": "-yNfErkP20Pt"
      },
      "source": [
        "!ls"
      ],
      "execution_count": null,
      "outputs": []
    },
    {
      "cell_type": "code",
      "metadata": {
        "id": "9BNju19j3B5d"
      },
      "source": [
        "import pandas as pd\n",
        "email_list = pd.read_csv('email_list.csv')"
      ],
      "execution_count": 29,
      "outputs": []
    },
    {
      "cell_type": "code",
      "metadata": {
        "colab": {
          "base_uri": "https://localhost:8080/",
          "height": 111
        },
        "id": "AsOSx3hT3Ih2",
        "outputId": "7efed59a-3e21-41ef-8674-854df66bf67c"
      },
      "source": [
        "email_list"
      ],
      "execution_count": 30,
      "outputs": [
        {
          "output_type": "execute_result",
          "data": {
            "text/html": [
              "<div>\n",
              "<style scoped>\n",
              "    .dataframe tbody tr th:only-of-type {\n",
              "        vertical-align: middle;\n",
              "    }\n",
              "\n",
              "    .dataframe tbody tr th {\n",
              "        vertical-align: top;\n",
              "    }\n",
              "\n",
              "    .dataframe thead th {\n",
              "        text-align: right;\n",
              "    }\n",
              "</style>\n",
              "<table border=\"1\" class=\"dataframe\">\n",
              "  <thead>\n",
              "    <tr style=\"text-align: right;\">\n",
              "      <th></th>\n",
              "      <th>email</th>\n",
              "      <th>contents</th>\n",
              "      <th>city</th>\n",
              "    </tr>\n",
              "  </thead>\n",
              "  <tbody>\n",
              "    <tr>\n",
              "      <th>0</th>\n",
              "      <td>levy6543@gmail.com</td>\n",
              "      <td>News</td>\n",
              "      <td>Hanoi</td>\n",
              "    </tr>\n",
              "    <tr>\n",
              "      <th>1</th>\n",
              "      <td>thaovy.le@e2.com.vn</td>\n",
              "      <td>Weather</td>\n",
              "      <td>London</td>\n",
              "    </tr>\n",
              "  </tbody>\n",
              "</table>\n",
              "</div>"
            ],
            "text/plain": [
              "                 email contents    city\n",
              "0   levy6543@gmail.com     News   Hanoi\n",
              "1  thaovy.le@e2.com.vn  Weather  London"
            ]
          },
          "metadata": {
            "tags": []
          },
          "execution_count": 30
        }
      ]
    },
    {
      "cell_type": "markdown",
      "metadata": {
        "id": "lDxNcYmxq3zr"
      },
      "source": [
        "### TODO #5\n",
        "* Add các địa chỉ email có ý nghĩa, và thêm dòng vào file csv (lưu ý không có dấu cách)\n",
        "* Dùng code để gửi email cho một list từ csv:\n",
        "  - Nếu email có contents = 'News' => Gửi thông tin COVID19\n",
        "  - Nếu email có contents = 'Weather' => Gửi thông tin thời tiết theo thành phố trong cột city (lưu ý check các city được hỗ trợ trong API)\n",
        "\n",
        "**Hints:**\n",
        "* Sử dụng loops for ... in \n",
        "* Sử dụng function `send_email`, `get_weather_data`"
      ]
    },
    {
      "cell_type": "code",
      "metadata": {
        "colab": {
          "base_uri": "https://localhost:8080/"
        },
        "id": "0m2yIL4dpzVH",
        "outputId": "194724c6-2693-4303-c2d1-543e0345d283"
      },
      "source": [
        "session = smtplib.SMTP('smtp.gmail.com', 587) #use gmail with port\n",
        "session.starttls() #enable security\n",
        "session.login(sender_email, password) #login with mail_id and password"
      ],
      "execution_count": 36,
      "outputs": [
        {
          "output_type": "execute_result",
          "data": {
            "text/plain": [
              "(235, b'2.7.0 Accepted')"
            ]
          },
          "metadata": {
            "tags": []
          },
          "execution_count": 36
        }
      ]
    },
    {
      "cell_type": "code",
      "metadata": {
        "colab": {
          "base_uri": "https://localhost:8080/"
        },
        "id": "MNhSzaV4JdSB",
        "outputId": "4f722a97-fb8e-4f42-f884-9e33d0fcbc86"
      },
      "source": [
        "len(email_list)"
      ],
      "execution_count": 37,
      "outputs": [
        {
          "output_type": "execute_result",
          "data": {
            "text/plain": [
              "2"
            ]
          },
          "metadata": {
            "tags": []
          },
          "execution_count": 37
        }
      ]
    },
    {
      "cell_type": "code",
      "metadata": {
        "id": "EQ9nMwc93KS8",
        "colab": {
          "base_uri": "https://localhost:8080/"
        },
        "outputId": "a48fbcc9-360e-4187-e057-477eb07dcb6a"
      },
      "source": [
        "for i in range(0, len(email_list)): \n",
        "    print('Email #{}'.format(i))\n",
        "    if email_list['contents'][i] == 'News':\n",
        "      print('COVID To: {}'.format(email_list['email'][i]))\n",
        "      # TODO: Send a COVID News\n",
        "      send_email(email_list['email'][i], \"Covid Information\", \"This is information about Covid19 \",\\\n",
        "                 str(p[4]), \"Thank you for reading!\", session)\n",
        "\n",
        "    elif email_list['contents'][i] == 'Weather':\n",
        "      print('Weather To: {}'.format(email_list['email'][i]))\n",
        "      # TODO: Send a Weather updates by the city\n",
        "      city = email_list['city'][i] \n",
        "      weather_info = get_weather_data(city)\n",
        "      send_email(email_list['email'][i], \"weather\", \"\", \"\", weather_info, session)\n",
        "    else:\n",
        "      print('Invalid Contents')\n",
        "      \n",
        "print('DONE!')"
      ],
      "execution_count": 40,
      "outputs": [
        {
          "output_type": "stream",
          "text": [
            "Email #0\n",
            "COVID To: levy6543@gmail.com\n",
            "DONE! Mail Sent\n",
            "Email #1\n",
            "Weather To: thaovy.le@e2.com.vn\n",
            "DONE!\n",
            "DONE! Mail Sent\n",
            "DONE!\n"
          ],
          "name": "stdout"
        }
      ]
    },
    {
      "cell_type": "code",
      "metadata": {
        "colab": {
          "base_uri": "https://localhost:8080/"
        },
        "id": "8XqOxohThb0Y",
        "outputId": "79cdaa4f-0b86-46c5-a78a-77c04cb5d41c"
      },
      "source": [
        "session.quit()"
      ],
      "execution_count": 41,
      "outputs": [
        {
          "output_type": "execute_result",
          "data": {
            "text/plain": [
              "(221, b'2.0.0 closing connection w20sm9086021ilj.16 - gsmtp')"
            ]
          },
          "metadata": {
            "tags": []
          },
          "execution_count": 41
        }
      ]
    }
  ]
}